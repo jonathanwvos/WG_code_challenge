{
 "cells": [
  {
   "cell_type": "markdown",
   "id": "680b74ab-9df2-4b79-bb68-87b4d0ed6679",
   "metadata": {},
   "source": [
    "# Alignment Statistics"
   ]
  }
 ],
 "metadata": {
  "kernelspec": {
   "display_name": "Python 3 (ipykernel)",
   "language": "python",
   "name": "python3"
  },
  "language_info": {
   "codemirror_mode": {
    "name": "ipython",
    "version": 3
   },
   "file_extension": ".py",
   "mimetype": "text/x-python",
   "name": "python",
   "nbconvert_exporter": "python",
   "pygments_lexer": "ipython3",
   "version": "3.12.4"
  }
 },
 "nbformat": 4,
 "nbformat_minor": 5
}
