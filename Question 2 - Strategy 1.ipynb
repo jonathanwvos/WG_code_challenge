{
 "cells": [
  {
   "cell_type": "code",
   "execution_count": 5,
   "id": "2a9a780e-2f79-4fb2-b5ae-d9d7fe43c637",
   "metadata": {},
   "outputs": [],
   "source": [
    "%reload_ext autoreload\n",
    "\n",
    "from os.path import join\n",
    "\n",
    "import pandas as pd\n",
    "\n",
    "\n",
    "BASELINE_PATH = join('data', 'baseline_coverage.txt')\n",
    "MODIFIED_PATH = join('data', 'modified_coverage.txt')\n",
    "COLUMNS = ['chromosome', 'position', 'depth']"
   ]
  },
  {
   "cell_type": "code",
   "execution_count": 6,
   "id": "0f7ab27e",
   "metadata": {},
   "outputs": [
    {
     "name": "stdout",
     "output_type": "stream",
     "text": [
      "52202    1.513301\n",
      "52203    1.546082\n",
      "52204    1.583251\n",
      "52205    1.508487\n",
      "52206    1.531713\n",
      "52207    1.517608\n",
      "52208    1.571725\n",
      "52209    1.504803\n",
      "52210    1.504803\n",
      "52224    1.589047\n",
      "52225    1.559514\n",
      "52226    1.529121\n",
      "52229    1.571725\n",
      "52230    1.575640\n",
      "52231    1.567734\n",
      "52232    1.544169\n",
      "52233    1.504803\n",
      "52234    1.533484\n",
      "52235    1.567734\n",
      "52236    1.548428\n",
      "52237    1.681524\n",
      "52238    1.654709\n",
      "52239    1.614938\n",
      "52240    1.569359\n",
      "52241    1.604995\n",
      "52242    1.658158\n",
      "52243    1.585110\n",
      "52244    1.681524\n",
      "52245    1.544169\n",
      "52246    1.544169\n",
      "52327    1.546734\n",
      "52328    1.520569\n",
      "52331    1.516478\n",
      "52332    1.547824\n",
      "99996    1.651394\n",
      "Name: depth, dtype: float64\n"
     ]
    }
   ],
   "source": [
    "baseline_coverage = pd.read_csv(BASELINE_PATH, sep='\\t', header=None, names=COLUMNS)\n",
    "modified_coverage = pd.read_csv(MODIFIED_PATH, sep='\\t', header=None, names=COLUMNS)\n",
    "baseline_mean = baseline_coverage['depth'].mean()\n",
    "modified_mean = modified_coverage['depth'].mean()\n",
    "\n",
    "# Normalize by sample mean\n",
    "baseline_coverage_norm = baseline_coverage['depth'] / baseline_mean\n",
    "modified_coverage_norm = modified_coverage['depth'] / modified_mean\n",
    "\n",
    "copy_no_gain_dist = (modified_coverage_norm - baseline_coverage_norm) / baseline_coverage_norm\n",
    "\n",
    "# Coverage gain region of interest band parameters\n",
    "copy_no_gain_dev = 0.5\n",
    "copy_no_gain_value = 2.0\n",
    "\n",
    "# Coverage gain boundaries\n",
    "copy_no_gain_upper_bound = copy_no_gain_dist <= copy_no_gain_value + copy_no_gain_dev\n",
    "copy_no_gain_lower_bound = copy_no_gain_dist >= copy_no_gain_value - copy_no_gain_dev\n",
    "\n",
    "# Coverage gain region of interest\n",
    "roi_copy_no_gain = copy_no_gain_dist[copy_no_gain_lower_bound & copy_no_gain_upper_bound]\n",
    "\n",
    "# Extract the largest contiguous sub-region with some tolerance\n",
    "# print(roi_copy_no_gain)\n",
    "contiguous_regions = []\n",
    "\n",
    "print(roi_copy_no_gain)"
   ]
  },
  {
   "cell_type": "markdown",
   "id": "ff7e36ae",
   "metadata": {},
   "source": [
    "Inspecting the output shows that there are two regions of interest:\n",
    "1. [52202, 52332]\n",
    "2. [99996]\n",
    "\n",
    "Clearly, region 2 is an outlier, since it consists of a single nucleotide, and can be omitted. Therefore the gene with 2x copy gain is the gene associated with region 1. A visual inspection of the annotations file shows that region 1 lies within the boundaries of gene_14:\n",
    "`toy_genome\t52100\t52600\tgene_14\t0\t+`"
   ]
  }
 ],
 "metadata": {
  "kernelspec": {
   "display_name": "Python 3 (ipykernel)",
   "language": "python",
   "name": "python3"
  },
  "language_info": {
   "codemirror_mode": {
    "name": "ipython",
    "version": 3
   },
   "file_extension": ".py",
   "mimetype": "text/x-python",
   "name": "python",
   "nbconvert_exporter": "python",
   "pygments_lexer": "ipython3",
   "version": "3.12.4"
  }
 },
 "nbformat": 4,
 "nbformat_minor": 5
}
